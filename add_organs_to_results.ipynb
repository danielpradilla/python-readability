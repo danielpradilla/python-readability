{
 "cells": [
  {
   "cell_type": "code",
   "execution_count": 8,
   "metadata": {
    "collapsed": true
   },
   "outputs": [],
   "source": [
    "#reading/writing files\n",
    "import os\n",
    "import csv\n"
   ]
  },
  {
   "cell_type": "code",
   "execution_count": 9,
   "metadata": {},
   "outputs": [
    {
     "name": "stdout",
     "output_type": "stream",
     "text": [
      "{'WFC': 'WFC', 'UNITAR': 'UNITAR', 'UNIDO': 'ID', 'UNEP': 'UNEP', 'UNECE': 'UNECE', 'DP': 'UNDP', 'TD': 'UNCTAD', 'UNCTAD': 'UNCTAD', 'ST': 'Secretriat', 'S': 'Security Council', 'OLA': 'OLA', 'ISBA': 'ISBA', 'ILC': 'ILC', 'ICCD': 'UNCCD', 'FCCC': 'UNFCCC', 'ECE/WAT': 'UNECE', 'ECE/TRADE': 'UNECE', 'TRADE': 'UNECE', 'ECE/TIM': 'UNECE', 'ECE/TEIA': 'UNECE', 'ECE/PP': 'UNECE', 'ECE/ITC': 'UNECE', 'ECE/HBP': 'UNECE', 'ECE/ENERGY': 'UNECE', 'ENERGY': 'UNECE', 'ECE/EIA': 'UNECE', 'ECE/EB': 'UNECE', 'ECE/CES': 'UNECE', 'CES': 'UNECE', 'ECE/CEP': 'UNECE', 'CEP': 'UNECE', 'ECE/CECI': 'UNECE', 'TRANS': 'UNECE', 'EB.AIR': 'UNECE', 'TIM': 'UNECE', 'ECE': 'UNECE', 'E/ECE': 'UNECE', 'E/CN.6': 'Comission on the status of women', 'E/CN.5': 'Commission for Social Development', 'E/C.2': 'Committee on NGOs', 'E': 'ECOSOC', 'CRPD': 'Human Rights TB', 'CRC': 'Human Rights TB', 'CMW': 'Human Rights TB', 'CESCR': 'Human Rights TB', 'CERD': 'Human Rights TB', 'CEDAW': 'Human Rights TB', 'CED': 'Human Rights TB', 'CCPR': 'Human Rights TB', 'CAT': 'Human Rights TB', 'SPT': 'Human Rights TB', 'CD': 'Disarmament', 'CCW': 'Disarmament', 'NPT': 'Disarmament', 'APLC': 'Disarmament', 'BWC': 'Disarmament', 'UNODC': 'UNODC', 'PCNICC': 'ICC', 'A/HRC': 'Human Rights Council', 'A': 'General Assembly', 'JOURNAL NO': 'General Assembly', 'IDB': 'IDB', 'SPLOS': 'SPLOS'}\n",
      "done!\n"
     ]
    }
   ],
   "source": [
    "\n",
    "\n",
    "def load_organ_symbol_file(path):\n",
    "    rtn = {}\n",
    "    with open(path, 'r') as csvfile:\n",
    "        for row in csv.DictReader(csvfile, delimiter=';'):\n",
    "            rtn[row['symbol_series']] = row['body_organ']\n",
    "    return rtn\n",
    "    \n",
    "def get_organ(organ_symbol, symbol, start_by=2):\n",
    "    #attempt to find first by the start_by slash, moving down to first slash\n",
    "    #return other if not found\n",
    "    rtn = None\n",
    "    for i in range(start_by, 0, -1):\n",
    "        parts = symbol.split('/')\n",
    "        if len(parts) >= start_by:\n",
    "            lookup_by = '/'.join(parts[:i])            \n",
    "            rtn = organ_symbol.get(lookup_by, None)\n",
    "            if rtn is not None:\n",
    "                break\n",
    "        parts = symbol.split('.')\n",
    "        if len(parts) >= start_by:\n",
    "            lookup_by = '.'.join(parts[:i])            \n",
    "            rtn = organ_symbol.get(lookup_by, None)\n",
    "            if rtn is not None:\n",
    "                break\n",
    "    if rtn is None:\n",
    "        rtn = 'Other'\n",
    "    return rtn\n",
    "\n",
    "def get_new_data(row):\n",
    "    return get_organ(ORGAN_SYMBOL, row.get('symbol',None),2)\n",
    "    \n",
    "\n",
    "def update_column_in_file(file_path, header_name, update_function):\n",
    "    bakname = file_path + '.bak'\n",
    "    os.rename(file_path, bakname)\n",
    "    with open(bakname, 'rt') as csv_input, open(file_path, 'wt') as csv_output:\n",
    "        reader = list(csv.DictReader(csv_input, delimiter=';') )\n",
    "\n",
    "        keys = list(reader[0].keys() )\n",
    "        if header_name not in reader[0]:            \n",
    "            keys.append(header_name)\n",
    "            \n",
    "        writer = csv.DictWriter(csv_output, keys, lineterminator='\\n', delimiter=';')\n",
    "        writer.writeheader()\n",
    "        \n",
    "        writer_rows = []            \n",
    "            \n",
    "        for row in reader:\n",
    "            row[header_name] = update_function(row)\n",
    "            writer_rows.append(row)\n",
    "\n",
    "        writer.writerows(writer_rows)\n",
    "\n",
    "        \n",
    "def main():\n",
    "    global ORGAN_SYMBOL \n",
    "    ORGAN_SYMBOL = load_organ_symbol_file('./organ_symbol.csv')\n",
    "    print(ORGAN_SYMBOL)\n",
    "    \n",
    "    update_column_in_file('./results.csv', 'organ', get_new_data)\n",
    "    #print(lookup_organ(ORGAN_SYMBOL, 'UNECE/CN.6/69/61', 2))\n",
    "    print('done!')\n",
    "    \n",
    "main()"
   ]
  },
  {
   "cell_type": "code",
   "execution_count": null,
   "metadata": {
    "collapsed": true
   },
   "outputs": [],
   "source": []
  }
 ],
 "metadata": {
  "kernelspec": {
   "display_name": "Python 3",
   "language": "python",
   "name": "python3"
  },
  "language_info": {
   "codemirror_mode": {
    "name": "ipython",
    "version": 3
   },
   "file_extension": ".py",
   "mimetype": "text/x-python",
   "name": "python",
   "nbconvert_exporter": "python",
   "pygments_lexer": "ipython3",
   "version": "3.6.1"
  }
 },
 "nbformat": 4,
 "nbformat_minor": 2
}
